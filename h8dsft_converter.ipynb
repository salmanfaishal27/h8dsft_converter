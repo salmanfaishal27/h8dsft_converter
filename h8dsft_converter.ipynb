{
 "cells": [
  {
   "cell_type": "markdown",
   "metadata": {},
   "source": [
    "# Temperature convertion from celsius to kelvin and vice versa"
   ]
  },
  {
   "cell_type": "code",
   "execution_count": 1,
   "metadata": {},
   "outputs": [],
   "source": [
    "def celsius_kelvin(temperature,satuan): # function dengan 2 parameter temperature dan satuan\n",
    "    \n",
    "    satuan = satuan.lower() # mengganti satuan menjadi huruf kecil untuk mengatasi satuan dengan huruf besar\n",
    "\n",
    "    if satuan == 'c': \n",
    "        return temperature - 273.15 # jika satuan = c maka rumus disamping yang dipakai\n",
    "    elif satuan == 'k' :\n",
    "        return temperature + 273.15 # jika satuan = k maka rumus disamping yang dipakai\n",
    "    else:\n",
    "        print('satuan harus berisi c atau k') # jika satuan bukan c atau k\n",
    "\n"
   ]
  },
  {
   "cell_type": "code",
   "execution_count": 2,
   "metadata": {},
   "outputs": [
    {
     "name": "stdout",
     "output_type": "stream",
     "text": [
      "90.0 derajat celsius sama dengan 363.15 kelvin\n",
      "90.0 derajat kelvin sama dengan -183.15 celsius\n"
     ]
    }
   ],
   "source": [
    "suhu = float(input())\n",
    "print(f\"{suhu} derajat celsius sama dengan {celsius_kelvin(suhu,'K')} kelvin\") # menampilkan hasil konversi dari celsius ke kelvin\n",
    "print(f\"{suhu} derajat kelvin sama dengan {round(celsius_kelvin(suhu,'c'),2)} celsius\") # menampilkan hasil konversi dari kelvin ke celsius"
   ]
  },
  {
   "cell_type": "markdown",
   "metadata": {},
   "source": [
    "# Temperature conversion from celsius or kelvin to fahrenheit"
   ]
  },
  {
   "cell_type": "code",
   "execution_count": 3,
   "metadata": {},
   "outputs": [],
   "source": [
    "def to_fahrenheit(temperature,satuan): # function dengan 2 parameter temperature dan satuan\n",
    "    \n",
    "    satuan = satuan.lower() # mengganti satuan menjadi huruf kecil untuk mengatasi satuan dengan huruf besar\n",
    "    if satuan == 'c':\n",
    "        return  (temperature * 9/5) + 32 # jika satuan = c maka rumus disamping yang dipakai\n",
    "    elif satuan == 'k' :\n",
    "        return ((temperature - 273.15) * 9/5) + 32 # jika satuan = k maka rumus disamping yang dipakai\n",
    "    else:\n",
    "        print('satuan harus berisi c atau k') # jika satuan bukan c atau k\n"
   ]
  },
  {
   "cell_type": "code",
   "execution_count": 6,
   "metadata": {},
   "outputs": [
    {
     "name": "stdout",
     "output_type": "stream",
     "text": [
      "50.0 derajat celsius sama dengan 122.0 fahrenheit\n",
      "50.0 derajat kelvin sama dengan -369.67 fahrenheit\n"
     ]
    }
   ],
   "source": [
    "suhu = float(input())\n",
    "print(f\"{suhu} derajat celsius sama dengan {to_fahrenheit(suhu,'c')} fahrenheit\") # menampilkan hasil konversi dari celsius ke fahrenheit\n",
    "print(f\"{suhu} derajat kelvin sama dengan {round(to_fahrenheit(suhu,'k'),2)} fahrenheit\") # menampilkan hasil konversi dari kelvin ke fahrenheit"
   ]
  },
  {
   "cell_type": "markdown",
   "metadata": {},
   "source": [
    "# Temperature conversion from fahrenheit to celsius or kelvin"
   ]
  },
  {
   "cell_type": "code",
   "execution_count": 23,
   "metadata": {},
   "outputs": [],
   "source": [
    "def fahrenheit_to(temperature,satuan): # function dengan 2 parameter temperature dan satuan\n",
    "    \n",
    "    satuan = satuan.lower() # mengganti satuan menjadi huruf kecil untuk mengatasi satuan dengan huruf besar\n",
    "\n",
    "    if satuan == 'c':\n",
    "        return  (temperature -32) * 5/9 # jika satuan = c maka rumus disamping yang dipakai\n",
    "    elif satuan == 'k' :\n",
    "        return ((temperature - 32) * 5/9) + 273.15 # jika satuan = k maka rumus disamping yang dipakai\n",
    "    else:\n",
    "        print('satuan harus berisi c atau k') # jika satuan bukan c atau k\n"
   ]
  },
  {
   "cell_type": "code",
   "execution_count": 25,
   "metadata": {},
   "outputs": [
    {
     "name": "stdout",
     "output_type": "stream",
     "text": [
      "12.0 derajat fahrenheit sama dengan -11.11 celcius\n",
      "12.0 derajat fahrenheit sama dengan 262.04 kelvin\n"
     ]
    }
   ],
   "source": [
    "suhu = float(input())\n",
    "print(f\"{suhu} derajat fahrenheit sama dengan {round(fahrenheit_to(suhu,'c'),2)} celcius\") # menampilkan hasil konversi dari fahrenheit ke celsius\n",
    "print(f\"{suhu} derajat fahrenheit sama dengan {round(fahrenheit_to(suhu,'k'),2)} kelvin\") # menampilkan hasil konversi dari fahrenheit ke kelvin"
   ]
  },
  {
   "cell_type": "markdown",
   "metadata": {},
   "source": [
    "# lambda function"
   ]
  },
  {
   "cell_type": "code",
   "execution_count": 3,
   "metadata": {},
   "outputs": [
    {
     "name": "stdout",
     "output_type": "stream",
     "text": [
      "50.0 derajat celsius sama dengan 323.15 kelvin\n",
      "50.0 derajat kelvin sama dengan -223.15 celsius\n"
     ]
    }
   ],
   "source": [
    "celsius_kelvin = lambda temperature, satuan: temperature - 273.15 if satuan.lower() == 'c' else (temperature + 273.15 if satuan.lower() == 'k' else 'satuan harus berisi c atau k') \n",
    "#membuat fungsi lambda dengan parameter temperatur dan satuan dan akan mengembalikan nilai dengan rumus sesuai dengan satuan\n",
    "suhu = float(input())\n",
    "print(f\"{suhu} derajat celsius sama dengan {celsius_kelvin(suhu,'K')} kelvin\") # menampilkan hasil konversi dari celsius ke kelvin\n",
    "print(f\"{suhu} derajat kelvin sama dengan {round(celsius_kelvin(suhu,'c'),2)} celsius\") # menampilkan hasil konversi dari kelvin ke celsius"
   ]
  },
  {
   "cell_type": "code",
   "execution_count": 5,
   "metadata": {},
   "outputs": [
    {
     "name": "stdout",
     "output_type": "stream",
     "text": [
      "90.0 derajat celsius sama dengan 194.0 fahrenheit\n",
      "90.0 derajat kelvin sama dengan -297.67 fahrenheit\n"
     ]
    }
   ],
   "source": [
    "to_fahrenheit = lambda temperature,satuan: (temperature * 9/5) + 32 if satuan.lower() == 'c' else (((temperature - 273.15) * 9/5) + 32 if satuan.lower() == 'k' else 'satuan harus berisi c atau k')\n",
    "#membuat fungsi lambda dengan parameter temperatur dan satuan dan akan mengembalikan nilai dengan rumus sesuai dengan satuan\n",
    "suhu = float(input())\n",
    "print(f\"{suhu} derajat celsius sama dengan {to_fahrenheit(suhu,'c')} fahrenheit\") # menampilkan hasil konversi dari celsius ke fahrenheit\n",
    "print(f\"{suhu} derajat kelvin sama dengan {round(to_fahrenheit(suhu,'k'),2)} fahrenheit\") # menampilkan hasil konversi dari kelvin ke fahrenheit\n"
   ]
  },
  {
   "cell_type": "code",
   "execution_count": 7,
   "metadata": {},
   "outputs": [
    {
     "name": "stdout",
     "output_type": "stream",
     "text": [
      "90.0 derajat fahrenheit sama dengan 32.22 celcius\n",
      "90.0 derajat fahrenheit sama dengan 305.37 kelvin\n"
     ]
    }
   ],
   "source": [
    "fahrenheit_to = lambda temperature, satuan: (temperature -32) * 5/9 if satuan.lower() == 'c' else (((temperature - 32) * 5/9) + 273.15 if satuan.lower() == 'k' else ('satuan harus berisi c atau k'))\n",
    "#membuat fungsi lambda dengan parameter temperatur dan satuan dan akan mengembalikan nilai dengan rumus sesuai dengan satuan\n",
    "suhu = float(input())\n",
    "print(f\"{suhu} derajat fahrenheit sama dengan {round(fahrenheit_to(suhu,'c'),2)} celcius\") # menampilkan hasil konversi dari fahrenheit ke celsius\n",
    "print(f\"{suhu} derajat fahrenheit sama dengan {round(fahrenheit_to(suhu,'k'),2)} kelvin\") # menampilkan hasil konversi dari fahrenheit ke kelvin\n"
   ]
  }
 ],
 "metadata": {
  "kernelspec": {
   "display_name": "Python 3.10.4 64-bit",
   "language": "python",
   "name": "python3"
  },
  "language_info": {
   "codemirror_mode": {
    "name": "ipython",
    "version": 3
   },
   "file_extension": ".py",
   "mimetype": "text/x-python",
   "name": "python",
   "nbconvert_exporter": "python",
   "pygments_lexer": "ipython3",
   "version": "3.10.4"
  },
  "orig_nbformat": 4,
  "vscode": {
   "interpreter": {
    "hash": "4217bdb66c1619d3c7bf3a5f6dea8f7bd4200ce5b7b90b812037b80bad35d2ee"
   }
  }
 },
 "nbformat": 4,
 "nbformat_minor": 2
}
